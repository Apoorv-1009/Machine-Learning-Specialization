{
 "cells": [
  {
   "cell_type": "markdown",
   "metadata": {},
   "source": [
    "# Deep Q-Learning - Lunar Lander\n",
    "\n",
    "In this assignment, you will train an agent to land a lunar lander safely on a landing pad on the surface of the moon.\n",
    "\n",
    "\n",
    "# Outline\n",
    "- [ 1 - Import Packages <img align=\"Right\" src=\"./images/lunar_lander.gif\" width = 60% >](#1)\n",
    "- [ 2 - Hyperparameters](#2)\n",
    "- [ 3 - The Lunar Lander Environment](#3)\n",
    "  - [ 3.1 Action Space](#3.1)\n",
    "  - [ 3.2 Observation Space](#3.2)\n",
    "  - [ 3.3 Rewards](#3.3)\n",
    "  - [ 3.4 Episode Termination](#3.4)\n",
    "- [ 4 - Load the Environment](#4)\n",
    "- [ 5 - Interacting with the Gym Environment](#5)\n",
    "    - [ 5.1 Exploring the Environment's Dynamics](#5.1)\n",
    "- [ 6 - Deep Q-Learning](#6)\n",
    "  - [ 6.1 Target Network](#6.1)\n",
    "    - [ Exercise 1](#ex01)\n",
    "  - [ 6.2 Experience Replay](#6.2)\n",
    "- [ 7 - Deep Q-Learning Algorithm with Experience Replay](#7)\n",
    "  - [ Exercise 2](#ex02)\n",
    "- [ 8 - Update the Network Weights](#8)\n",
    "- [ 9 - Train the Agent](#9)\n",
    "- [ 10 - See the Trained Agent In Action](#10)\n",
    "- [ 11 - Congratulations!](#11)\n",
    "- [ 12 - References](#12)\n"
   ]
  },
  {
   "cell_type": "markdown",
   "metadata": {},
   "source": [
    "_**NOTE:** To prevent errors from the autograder, you are not allowed to edit or delete non-graded cells in this lab. Please also refrain from adding any new cells. \n",
    "**Once you have passed this assignment** and want to experiment with any of the non-graded code, you may follow the instructions at the bottom of this notebook._"
   ]
  },
  {
   "cell_type": "markdown",
   "metadata": {},
   "source": [
    "<a name=\"1\"></a>\n",
    "## 1 - Import Packages\n",
    "\n",
    "We'll make use of the following packages:\n",
    "- `numpy` is a package for scientific computing in python.\n",
    "- `deque` will be our data structure for our memory buffer.\n",
    "- `namedtuple` will be used to store the experience tuples.\n",
    "- The `gym` toolkit is a collection of environments that can be used to test reinforcement learning algorithms. We should note that in this notebook we are using `gym` version `0.24.0`.\n",
    "- `PIL.Image` and `pyvirtualdisplay` are needed to render the Lunar Lander environment.\n",
    "- We will use several modules from the `tensorflow.keras` framework for building deep learning models.\n",
    "- `utils` is a module that contains helper functions for this assignment. You do not need to modify the code in this file.\n",
    "\n",
    "Run the cell below to import all the necessary packages."
   ]
  },
  {
   "cell_type": "code",
   "execution_count": 1,
   "metadata": {
    "deletable": false,
    "editable": false,
    "id": "KYbOPKRtfQOr"
   },
   "outputs": [],
   "source": [
    "import time\n",
    "from collections import deque, namedtuple\n",
    "\n",
    "import gym\n",
    "import numpy as np\n",
    "import PIL.Image\n",
    "import tensorflow as tf\n",
    "import utils\n",
    "\n",
    "from pyvirtualdisplay import Display\n",
    "from tensorflow.keras import Sequential\n",
    "from tensorflow.keras.layers import Dense, Input\n",
    "from tensorflow.keras.losses import MSE\n",
    "from tensorflow.keras.optimizers import Adam"
   ]
  },
  {
   "cell_type": "code",
   "execution_count": 2,
   "metadata": {
    "deletable": false,
    "editable": false
   },
   "outputs": [],
   "source": [
    "# Set up a virtual display to render the Lunar Lander environment.\n",
    "Display(visible=0, size=(840, 480)).start();\n",
    "\n",
    "# Set the random seed for TensorFlow\n",
    "tf.random.set_seed(utils.SEED)"
   ]
  },
  {
   "cell_type": "markdown",
   "metadata": {},
   "source": [
    "<a name=\"2\"></a>\n",
    "## 2 - Hyperparameters\n",
    "\n",
    "Run the cell below to set the hyperparameters."
   ]
  },
  {
   "cell_type": "code",
   "execution_count": 3,
   "metadata": {
    "deletable": false,
    "editable": false
   },
   "outputs": [],
   "source": [
    "MEMORY_SIZE = 100_000     # size of memory buffer\n",
    "GAMMA = 0.995             # discount factor\n",
    "ALPHA = 1e-3              # learning rate  \n",
    "NUM_STEPS_FOR_UPDATE = 4  # perform a learning update every C time steps"
   ]
  },
  {
   "cell_type": "markdown",
   "metadata": {},
   "source": [
    "<a name=\"3\"></a>\n",
    "## 3 - The Lunar Lander Environment\n",
    "\n",
    "In this notebook we will be using [OpenAI's Gym Library](https://www.gymlibrary.dev/). The Gym library provides a wide variety of environments for reinforcement learning. To put it simply, an environment represents a problem or task to be solved. In this notebook, we will try to solve the Lunar Lander environment using reinforcement learning.\n",
    "\n",
    "The goal of the Lunar Lander environment is to land the lunar lander safely on the landing pad on the surface of the moon. The landing pad is designated by two flag poles and its center is at coordinates `(0,0)` but the lander is also allowed to land outside of the landing pad. The lander starts at the top center of the environment with a random initial force applied to its center of mass and has infinite fuel. The environment is considered solved if you get `200` points. \n",
    "\n",
    "<br>\n",
    "<br>\n",
    "<figure>\n",
    "  <img src = \"images/lunar_lander.gif\" width = 40%>\n",
    "      <figcaption style = \"text-align: center; font-style: italic\">Fig 1. Lunar Lander Environment.</figcaption>\n",
    "</figure>\n",
    "\n",
    "\n",
    "\n",
    "<a name=\"3.1\"></a>\n",
    "### 3.1 Action Space\n",
    "\n",
    "The agent has four discrete actions available:\n",
    "\n",
    "* Do nothing.\n",
    "* Fire right engine.\n",
    "* Fire main engine.\n",
    "* Fire left engine.\n",
    "\n",
    "Each action has a corresponding numerical value:\n",
    "\n",
    "```python\n",
    "Do nothing = 0\n",
    "Fire right engine = 1\n",
    "Fire main engine = 2\n",
    "Fire left engine = 3\n",
    "```\n",
    "\n",
    "<a name=\"3.2\"></a>\n",
    "### 3.2 Observation Space\n",
    "\n",
    "The agent's observation space consists of a state vector with 8 variables:\n",
    "\n",
    "* Its $(x,y)$ coordinates. The landing pad is always at coordinates $(0,0)$.\n",
    "* Its linear velocities $(\\dot x,\\dot y)$.\n",
    "* Its angle $\\theta$.\n",
    "* Its angular velocity $\\dot \\theta$.\n",
    "* Two booleans, $l$ and $r$, that represent whether each leg is in contact with the ground or not.\n",
    "\n",
    "<a name=\"3.3\"></a>\n",
    "### 3.3 Rewards\n",
    "\n",
    "After every step, a reward is granted. The total reward of an episode is the sum of the rewards for all the steps within that episode.\n",
    "\n",
    "For each step, the reward:\n",
    "- is increased/decreased the closer/further the lander is to the landing pad.\n",
    "- is increased/decreased the slower/faster the lander is moving.\n",
    "- is decreased the more the lander is tilted (angle not horizontal).\n",
    "- is increased by 10 points for each leg that is in contact with the ground.\n",
    "- is decreased by 0.03 points each frame a side engine is firing.\n",
    "- is decreased by 0.3 points each frame the main engine is firing.\n",
    "\n",
    "The episode receives an additional reward of -100 or +100 points for crashing or landing safely respectively.\n",
    "\n",
    "<a name=\"3.4\"></a>\n",
    "### 3.4 Episode Termination\n",
    "\n",
    "An episode ends (i.e the environment enters a terminal state) if:\n",
    "\n",
    "* The lunar lander crashes (i.e if the body of the lunar lander comes in contact with the surface of the moon).\n",
    "\n",
    "* The absolute value of the lander's $x$-coordinate is greater than 1 (i.e. it goes beyond the left or right border)\n",
    "\n",
    "You can check out the [Open AI Gym documentation](https://www.gymlibrary.dev/environments/box2d/lunar_lander/) for a full description of the environment. "
   ]
  },
  {
   "cell_type": "markdown",
   "metadata": {},
   "source": [
    "<a name=\"4\"></a>\n",
    "## 4 - Load the Environment\n",
    "\n",
    "We start by loading the `LunarLander-v2` environment from the `gym` library by using the `.make()` method. `LunarLander-v2` is the latest version of the Lunar Lander environment and you can read about its version history in the [Open AI Gym documentation](https://www.gymlibrary.dev/environments/box2d/lunar_lander/#version-history)."
   ]
  },
  {
   "cell_type": "code",
   "execution_count": 4,
   "metadata": {
    "deletable": false,
    "editable": false,
    "id": "ILVMYKewfR0n"
   },
   "outputs": [],
   "source": [
    "env = gym.make('LunarLander-v2')"
   ]
  },
  {
   "cell_type": "markdown",
   "metadata": {},
   "source": [
    "Once we load the environment we use the `.reset()` method to reset the environment to the initial state. The lander starts at the top center of the environment and we can render the first frame of the environment by using the `.render()` method."
   ]
  },
  {
   "cell_type": "code",
   "execution_count": 5,
   "metadata": {
    "deletable": false,
    "editable": false
   },
   "outputs": [
    {
     "data": {
      "image/png": "[encoded data removed]",
      "text/plain": [
       "<PIL.Image.Image image mode=RGB size=600x400 at 0x7F5D244AB110>"
      ]
     },
     "execution_count": 5,
     "metadata": {},
     "output_type": "execute_result"
    }
   ],
   "source": [
    "env.reset()\n",
    "PIL.Image.fromarray(env.render(mode='rgb_array'))"
   ]
  },
  {
   "cell_type": "markdown",
   "metadata": {},
   "source": [
    "In order to build our neural network later on we need to know the size of the state vector and the number of valid actions. We can get this information from our environment by using the `.observation_space.shape` and `action_space.n` methods, respectively."
   ]
  },
  {
   "cell_type": "code",
   "execution_count": 6,
   "metadata": {
    "deletable": false,
    "editable": false,
    "id": "x3fdqdG4CUu2"
   },
   "outputs": [
    {
     "name": "stdout",
     "output_type": "stream",
     "text": [
      "State Shape: (8,)\n",
      "Number of actions: 4\n"
     ]
    }
   ],
   "source": [
    "state_size = env.observation_space.shape\n",
    "num_actions = env.action_space.n\n",
    "\n",
    "print('State Shape:', state_size)\n",
    "print('Number of actions:', num_actions)"
   ]
  },
  {
   "cell_type": "markdown",
   "metadata": {},
   "source": [
    "<a name=\"5\"></a>\n",
    "## 5 - Interacting with the Gym Environment\n",
    "\n",
    "The Gym library implements the standard “agent-environment loop” formalism:\n",
    "\n",
    "<br>\n",
    "<center>\n",
    "<video src = \"./videos/rl_formalism.m4v\" width=\"840\" height=\"480\" controls autoplay loop poster=\"./images/rl_formalism.png\"> </video>\n",
    "<figcaption style = \"text-align:center; font-style:italic\">Fig 2. Agent-environment Loop Formalism.</figcaption>\n",
    "</center>\n",
    "<br>\n",
    "\n",
    "In the standard “agent-environment loop” formalism, an agent interacts with the environment in discrete time steps $t=0,1,2,...$. At each time step $t$, the agent uses a policy $\\pi$ to select an action $A_t$ based on its observation of the environment's state $S_t$. The agent receives a numerical reward $R_t$ and on the next time step, moves to a new state $S_{t+1}$.\n",
    "\n",
    "<a name=\"5.1\"></a>\n",
    "### 5.1 Exploring the Environment's Dynamics\n",
    "\n",
    "In Open AI's Gym environments, we use the `.step()` method to run a single time step of the environment's dynamics. In the version of `gym` that we are using the `.step()` method accepts an action and returns four values:\n",
    "\n",
    "* `observation` (**object**): an environment-specific object representing your observation of the environment. In the Lunar Lander environment this corresponds to a numpy array containing the positions and velocities of the lander as described in section [3.2 Observation Space](#3.2).\n",
    "\n",
    "\n",
    "* `reward` (**float**): amount of reward returned as a result of taking the given action. In the Lunar Lander environment this corresponds to a float of type `numpy.float64` as described in section [3.3 Rewards](#3.3).\n",
    "\n",
    "\n",
    "* `done` (**boolean**): When done is `True`, it indicates the episode has terminated and it’s time to reset the environment. \n",
    "\n",
    "\n",
    "* `info` (**dictionary**): diagnostic information useful for debugging. We won't be using this variable in this notebook but it is shown here for completeness.\n",
    "\n",
    "To begin an episode, we need to reset the environment to an initial state. We do this by using the `.reset()` method. "
   ]
  },
  {
   "cell_type": "code",
   "execution_count": 7,
   "metadata": {
    "deletable": false,
    "editable": false
   },
   "outputs": [],
   "source": [
    "# Reset the environment and get the initial state.\n",
    "current_state = env.reset()"
   ]
  },
  {
   "cell_type": "markdown",
   "metadata": {},
   "source": [
    "Once the environment is reset, the agent can start taking actions in the environment by using the `.step()` method. Note that the agent can only take one action per time step. \n",
    "\n",
    "In the cell below you can select different actions and see how the returned values change depending on the action taken. Remember that in this environment the agent has four discrete actions available and we specify them in code by using their corresponding numerical value:\n",
    "\n",
    "```python\n",
    "Do nothing = 0\n",
    "Fire right engine = 1\n",
    "Fire main engine = 2\n",
    "Fire left engine = 3\n",
    "```"
   ]
  },
  {
   "cell_type": "code",
   "execution_count": 8,
   "metadata": {
    "deletable": false
   },
   "outputs": [
    {
     "data": {
      "text/html": [
       "<style  type=\"text/css\" >\n",
       "    #T_af8dc20a_138e_11ee_bc0a_0242ac120067 th {\n",
       "          border: 1px solid grey;\n",
       "          text-align: center;\n",
       "    }    #T_af8dc20a_138e_11ee_bc0a_0242ac120067 tbody td {\n",
       "          border: 1px solid grey;\n",
       "          text-align: center;\n",
       "    }    #T_af8dc20a_138e_11ee_bc0a_0242ac120067row0_col0 {\n",
       "            background-color :  grey;\n",
       "        }    #T_af8dc20a_138e_11ee_bc0a_0242ac120067row1_col1 {\n",
       "            background-color :  grey;\n",
       "        }    #T_af8dc20a_138e_11ee_bc0a_0242ac120067row1_col2 {\n",
       "            background-color :  grey;\n",
       "        }    #T_af8dc20a_138e_11ee_bc0a_0242ac120067row1_col3 {\n",
       "            background-color :  grey;\n",
       "        }    #T_af8dc20a_138e_11ee_bc0a_0242ac120067row1_col4 {\n",
       "            background-color :  grey;\n",
       "        }    #T_af8dc20a_138e_11ee_bc0a_0242ac120067row1_col5 {\n",
       "            background-color :  grey;\n",
       "        }    #T_af8dc20a_138e_11ee_bc0a_0242ac120067row1_col6 {\n",
       "            background-color :  grey;\n",
       "        }    #T_af8dc20a_138e_11ee_bc0a_0242ac120067row1_col7 {\n",
       "            background-color :  grey;\n",
       "        }    #T_af8dc20a_138e_11ee_bc0a_0242ac120067row1_col8 {\n",
       "            background-color :  grey;\n",
       "        }    #T_af8dc20a_138e_11ee_bc0a_0242ac120067row1_col9 {\n",
       "            background-color :  grey;\n",
       "        }    #T_af8dc20a_138e_11ee_bc0a_0242ac120067row1_col10 {\n",
       "            background-color :  grey;\n",
       "        }    #T_af8dc20a_138e_11ee_bc0a_0242ac120067row1_col11 {\n",
       "            background-color :  grey;\n",
       "        }    #T_af8dc20a_138e_11ee_bc0a_0242ac120067row2_col0 {\n",
       "            background-color :  grey;\n",
       "        }    #T_af8dc20a_138e_11ee_bc0a_0242ac120067row3_col1 {\n",
       "            background-color :  grey;\n",
       "        }    #T_af8dc20a_138e_11ee_bc0a_0242ac120067row3_col2 {\n",
       "            background-color :  grey;\n",
       "        }    #T_af8dc20a_138e_11ee_bc0a_0242ac120067row3_col3 {\n",
       "            background-color :  grey;\n",
       "        }    #T_af8dc20a_138e_11ee_bc0a_0242ac120067row3_col4 {\n",
       "            background-color :  grey;\n",
       "        }    #T_af8dc20a_138e_11ee_bc0a_0242ac120067row3_col5 {\n",
       "            background-color :  grey;\n",
       "        }    #T_af8dc20a_138e_11ee_bc0a_0242ac120067row3_col6 {\n",
       "            background-color :  grey;\n",
       "        }    #T_af8dc20a_138e_11ee_bc0a_0242ac120067row3_col7 {\n",
       "            background-color :  grey;\n",
       "        }    #T_af8dc20a_138e_11ee_bc0a_0242ac120067row3_col8 {\n",
       "            background-color :  grey;\n",
       "        }    #T_af8dc20a_138e_11ee_bc0a_0242ac120067row3_col9 {\n",
       "            background-color :  grey;\n",
       "        }    #T_af8dc20a_138e_11ee_bc0a_0242ac120067row3_col10 {\n",
       "            background-color :  grey;\n",
       "        }    #T_af8dc20a_138e_11ee_bc0a_0242ac120067row3_col11 {\n",
       "            background-color :  grey;\n",
       "        }    #T_af8dc20a_138e_11ee_bc0a_0242ac120067row4_col1 {\n",
       "            background-color :  grey;\n",
       "        }    #T_af8dc20a_138e_11ee_bc0a_0242ac120067row4_col2 {\n",
       "            background-color :  grey;\n",
       "        }    #T_af8dc20a_138e_11ee_bc0a_0242ac120067row4_col3 {\n",
       "            background-color :  grey;\n",
       "        }    #T_af8dc20a_138e_11ee_bc0a_0242ac120067row4_col4 {\n",
       "            background-color :  grey;\n",
       "        }    #T_af8dc20a_138e_11ee_bc0a_0242ac120067row4_col5 {\n",
       "            background-color :  grey;\n",
       "        }    #T_af8dc20a_138e_11ee_bc0a_0242ac120067row4_col6 {\n",
       "            background-color :  grey;\n",
       "        }    #T_af8dc20a_138e_11ee_bc0a_0242ac120067row4_col7 {\n",
       "            background-color :  grey;\n",
       "        }    #T_af8dc20a_138e_11ee_bc0a_0242ac120067row4_col8 {\n",
       "            background-color :  grey;\n",
       "        }    #T_af8dc20a_138e_11ee_bc0a_0242ac120067row4_col9 {\n",
       "            background-color :  grey;\n",
       "        }    #T_af8dc20a_138e_11ee_bc0a_0242ac120067row4_col10 {\n",
       "            background-color :  grey;\n",
       "        }    #T_af8dc20a_138e_11ee_bc0a_0242ac120067row4_col11 {\n",
       "            background-color :  grey;\n",
       "        }</style><table id=\"T_af8dc20a_138e_11ee_bc0a_0242ac120067\" ><thead>    <tr>        <th class=\"blank level0\" ></th>        <th class=\"col_heading level0 col0\" ></th>        <th class=\"col_heading level0 col1\" colspan=8>State Vector</th>        <th class=\"col_heading level0 col9\" colspan=3>Derived from the State Vector (the closer to zero, the better)</th>    </tr>    <tr>        <th class=\"blank level1\" ></th>        <th class=\"col_heading level1 col0\" ></th>        <th class=\"col_heading level1 col1\" colspan=2>Coordinate</th>        <th class=\"col_heading level1 col3\" colspan=2>Velocity</th>        <th class=\"col_heading level1 col5\" colspan=2>Tilting</th>        <th class=\"col_heading level1 col7\" colspan=2>Ground contact</th>        <th class=\"col_heading level1 col9\" >Distance from landing pad</th>        <th class=\"col_heading level1 col10\" >Velocity</th>        <th class=\"col_heading level1 col11\" >Tilting Angle (absolute value)</th>    </tr>    <tr>        <th class=\"blank level2\" ></th>        <th class=\"col_heading level2 col0\" ></th>        <th class=\"col_heading level2 col1\" >X (Horizontal)</th>        <th class=\"col_heading level2 col2\" >Y (Vertical)</th>        <th class=\"col_heading level2 col3\" >X (Horizontal)</th>        <th class=\"col_heading level2 col4\" >Y (Vertical)</th>        <th class=\"col_heading level2 col5\" >Angle</th>        <th class=\"col_heading level2 col6\" >Angular Velocity</th>        <th class=\"col_heading level2 col7\" >Left Leg?</th>        <th class=\"col_heading level2 col8\" >Right Leg?</th>        <th class=\"col_heading level2 col9\" ></th>        <th class=\"col_heading level2 col10\" ></th>        <th class=\"col_heading level2 col11\" ></th>    </tr></thead><tbody>\n",
       "                <tr>\n",
       "                        <th id=\"T_af8dc20a_138e_11ee_bc0a_0242ac120067level0_row0\" class=\"row_heading level0 row0\" >Current State</th>\n",
       "                        <td id=\"T_af8dc20a_138e_11ee_bc0a_0242ac120067row0_col0\" class=\"data row0 col0\" ></td>\n",
       "                        <td id=\"T_af8dc20a_138e_11ee_bc0a_0242ac120067row0_col1\" class=\"data row0 col1\" >0.001919</td>\n",
       "                        <td id=\"T_af8dc20a_138e_11ee_bc0a_0242ac120067row0_col2\" class=\"data row0 col2\" >1.422301</td>\n",
       "                        <td id=\"T_af8dc20a_138e_11ee_bc0a_0242ac120067row0_col3\" class=\"data row0 col3\" >0.194400</td>\n",
       "                        <td id=\"T_af8dc20a_138e_11ee_bc0a_0242ac120067row0_col4\" class=\"data row0 col4\" >0.505814</td>\n",
       "                        <td id=\"T_af8dc20a_138e_11ee_bc0a_0242ac120067row0_col5\" class=\"data row0 col5\" >-0.002217</td>\n",
       "                        <td id=\"T_af8dc20a_138e_11ee_bc0a_0242ac120067row0_col6\" class=\"data row0 col6\" >-0.044034</td>\n",
       "                        <td id=\"T_af8dc20a_138e_11ee_bc0a_0242ac120067row0_col7\" class=\"data row0 col7\" >False</td>\n",
       "                        <td id=\"T_af8dc20a_138e_11ee_bc0a_0242ac120067row0_col8\" class=\"data row0 col8\" >False</td>\n",
       "                        <td id=\"T_af8dc20a_138e_11ee_bc0a_0242ac120067row0_col9\" class=\"data row0 col9\" >1.422302</td>\n",
       "                        <td id=\"T_af8dc20a_138e_11ee_bc0a_0242ac120067row0_col10\" class=\"data row0 col10\" >0.541885</td>\n",
       "                        <td id=\"T_af8dc20a_138e_11ee_bc0a_0242ac120067row0_col11\" class=\"data row0 col11\" >0.002217</td>\n",
       "            </tr>\n",
       "            <tr>\n",
       "                        <th id=\"T_af8dc20a_138e_11ee_bc0a_0242ac120067level0_row1\" class=\"row_heading level0 row1\" >Action</th>\n",
       "                        <td id=\"T_af8dc20a_138e_11ee_bc0a_0242ac120067row1_col0\" class=\"data row1 col0\" >Do nothing</td>\n",
       "                        <td id=\"T_af8dc20a_138e_11ee_bc0a_0242ac120067row1_col1\" class=\"data row1 col1\" ></td>\n",
       "                        <td id=\"T_af8dc20a_138e_11ee_bc0a_0242ac120067row1_col2\" class=\"data row1 col2\" ></td>\n",
       "                        <td id=\"T_af8dc20a_138e_11ee_bc0a_0242ac120067row1_col3\" class=\"data row1 col3\" ></td>\n",
       "                        <td id=\"T_af8dc20a_138e_11ee_bc0a_0242ac120067row1_col4\" class=\"data row1 col4\" ></td>\n",
       "                        <td id=\"T_af8dc20a_138e_11ee_bc0a_0242ac120067row1_col5\" class=\"data row1 col5\" ></td>\n",
       "                        <td id=\"T_af8dc20a_138e_11ee_bc0a_0242ac120067row1_col6\" class=\"data row1 col6\" ></td>\n",
       "                        <td id=\"T_af8dc20a_138e_11ee_bc0a_0242ac120067row1_col7\" class=\"data row1 col7\" ></td>\n",
       "                        <td id=\"T_af8dc20a_138e_11ee_bc0a_0242ac120067row1_col8\" class=\"data row1 col8\" ></td>\n",
       "                        <td id=\"T_af8dc20a_138e_11ee_bc0a_0242ac120067row1_col9\" class=\"data row1 col9\" ></td>\n",
       "                        <td id=\"T_af8dc20a_138e_11ee_bc0a_0242ac120067row1_col10\" class=\"data row1 col10\" ></td>\n",
       "                        <td id=\"T_af8dc20a_138e_11ee_bc0a_0242ac120067row1_col11\" class=\"data row1 col11\" ></td>\n",
       "            </tr>\n",
       "            <tr>\n",
       "                        <th id=\"T_af8dc20a_138e_11ee_bc0a_0242ac120067level0_row2\" class=\"row_heading level0 row2\" >Next State</th>\n",
       "                        <td id=\"T_af8dc20a_138e_11ee_bc0a_0242ac120067row2_col0\" class=\"data row2 col0\" ></td>\n",
       "                        <td id=\"T_af8dc20a_138e_11ee_bc0a_0242ac120067row2_col1\" class=\"data row2 col1\" >0.003839</td>\n",
       "                        <td id=\"T_af8dc20a_138e_11ee_bc0a_0242ac120067row2_col2\" class=\"data row2 col2\" >1.433103</td>\n",
       "                        <td id=\"T_af8dc20a_138e_11ee_bc0a_0242ac120067row2_col3\" class=\"data row2 col3\" >0.194137</td>\n",
       "                        <td id=\"T_af8dc20a_138e_11ee_bc0a_0242ac120067row2_col4\" class=\"data row2 col4\" >0.480094</td>\n",
       "                        <td id=\"T_af8dc20a_138e_11ee_bc0a_0242ac120067row2_col5\" class=\"data row2 col5\" >-0.004393</td>\n",
       "                        <td id=\"T_af8dc20a_138e_11ee_bc0a_0242ac120067row2_col6\" class=\"data row2 col6\" >-0.043519</td>\n",
       "                        <td id=\"T_af8dc20a_138e_11ee_bc0a_0242ac120067row2_col7\" class=\"data row2 col7\" >False</td>\n",
       "                        <td id=\"T_af8dc20a_138e_11ee_bc0a_0242ac120067row2_col8\" class=\"data row2 col8\" >False</td>\n",
       "                        <td id=\"T_af8dc20a_138e_11ee_bc0a_0242ac120067row2_col9\" class=\"data row2 col9\" >1.433108</td>\n",
       "                        <td id=\"T_af8dc20a_138e_11ee_bc0a_0242ac120067row2_col10\" class=\"data row2 col10\" >0.517860</td>\n",
       "                        <td id=\"T_af8dc20a_138e_11ee_bc0a_0242ac120067row2_col11\" class=\"data row2 col11\" >0.004393</td>\n",
       "            </tr>\n",
       "            <tr>\n",
       "                        <th id=\"T_af8dc20a_138e_11ee_bc0a_0242ac120067level0_row3\" class=\"row_heading level0 row3\" >Reward</th>\n",
       "                        <td id=\"T_af8dc20a_138e_11ee_bc0a_0242ac120067row3_col0\" class=\"data row3 col0\" >1.104326</td>\n",
       "                        <td id=\"T_af8dc20a_138e_11ee_bc0a_0242ac120067row3_col1\" class=\"data row3 col1\" ></td>\n",
       "                        <td id=\"T_af8dc20a_138e_11ee_bc0a_0242ac120067row3_col2\" class=\"data row3 col2\" ></td>\n",
       "                        <td id=\"T_af8dc20a_138e_11ee_bc0a_0242ac120067row3_col3\" class=\"data row3 col3\" ></td>\n",
       "                        <td id=\"T_af8dc20a_138e_11ee_bc0a_0242ac120067row3_col4\" class=\"data row3 col4\" ></td>\n",
       "                        <td id=\"T_af8dc20a_138e_11ee_bc0a_0242ac120067row3_col5\" class=\"data row3 col5\" ></td>\n",
       "                        <td id=\"T_af8dc20a_138e_11ee_bc0a_0242ac120067row3_col6\" class=\"data row3 col6\" ></td>\n",
       "                        <td id=\"T_af8dc20a_138e_11ee_bc0a_0242ac120067row3_col7\" class=\"data row3 col7\" ></td>\n",
       "                        <td id=\"T_af8dc20a_138e_11ee_bc0a_0242ac120067row3_col8\" class=\"data row3 col8\" ></td>\n",
       "                        <td id=\"T_af8dc20a_138e_11ee_bc0a_0242ac120067row3_col9\" class=\"data row3 col9\" ></td>\n",
       "                        <td id=\"T_af8dc20a_138e_11ee_bc0a_0242ac120067row3_col10\" class=\"data row3 col10\" ></td>\n",
       "                        <td id=\"T_af8dc20a_138e_11ee_bc0a_0242ac120067row3_col11\" class=\"data row3 col11\" ></td>\n",
       "            </tr>\n",
       "            <tr>\n",
       "                        <th id=\"T_af8dc20a_138e_11ee_bc0a_0242ac120067level0_row4\" class=\"row_heading level0 row4\" >Episode Terminated</th>\n",
       "                        <td id=\"T_af8dc20a_138e_11ee_bc0a_0242ac120067row4_col0\" class=\"data row4 col0\" >False</td>\n",
       "                        <td id=\"T_af8dc20a_138e_11ee_bc0a_0242ac120067row4_col1\" class=\"data row4 col1\" ></td>\n",
       "                        <td id=\"T_af8dc20a_138e_11ee_bc0a_0242ac120067row4_col2\" class=\"data row4 col2\" ></td>\n",
       "                        <td id=\"T_af8dc20a_138e_11ee_bc0a_0242ac120067row4_col3\" class=\"data row4 col3\" ></td>\n",
       "                        <td id=\"T_af8dc20a_138e_11ee_bc0a_0242ac120067row4_col4\" class=\"data row4 col4\" ></td>\n",
       "                        <td id=\"T_af8dc20a_138e_11ee_bc0a_0242ac120067row4_col5\" class=\"data row4 col5\" ></td>\n",
       "                        <td id=\"T_af8dc20a_138e_11ee_bc0a_0242ac120067row4_col6\" class=\"data row4 col6\" ></td>\n",
       "                        <td id=\"T_af8dc20a_138e_11ee_bc0a_0242ac120067row4_col7\" class=\"data row4 col7\" ></td>\n",
       "                        <td id=\"T_af8dc20a_138e_11ee_bc0a_0242ac120067row4_col8\" class=\"data row4 col8\" ></td>\n",
       "                        <td id=\"T_af8dc20a_138e_11ee_bc0a_0242ac120067row4_col9\" class=\"data row4 col9\" ></td>\n",
       "                        <td id=\"T_af8dc20a_138e_11ee_bc0a_0242ac120067row4_col10\" class=\"data row4 col10\" ></td>\n",
       "                        <td id=\"T_af8dc20a_138e_11ee_bc0a_0242ac120067row4_col11\" class=\"data row4 col11\" ></td>\n",
       "            </tr>\n",
       "    </tbody></table>"
      ],
      "text/plain": [
       "<pandas.io.formats.style.Styler at 0x7f5d2457c290>"
      ]
     },
     "metadata": {},
     "output_type": "display_data"
    }
   ],
   "source": [
    "# Select an action\n",
    "action = 0\n",
    "\n",
    "# Run a single time step of the environment's dynamics with the given action.\n",
    "next_state, reward, done, _ = env.step(action)\n",
    "\n",
    "# Display table with values.\n",
    "utils.display_table(current_state, action, next_state, reward, done)\n",
    "\n",
    "# Replace the `current_state` with the state after the action is taken\n",
    "current_state = next_state"
   ]
  },
  {
   "cell_type": "markdown",
   "metadata": {},
   "source": [
    "In practice, when we train the agent we use a loop to allow the agent to take many consecutive actions during an episode."
   ]
  },
  {
   "cell_type": "markdown",
   "metadata": {},
   "source": [
    "<a name=\"6\"></a>\n",
    "## 6 - Deep Q-Learning\n",
    "\n",
    "In cases where both the state and action space are discrete we can estimate the action-value function iteratively by using the Bellman equation:\n",
    "\n",
    "$$\n",
    "Q_{i+1}(s,a) = R + \\gamma \\max_{a'}Q_i(s',a')\n",
    "$$\n",
    "\n",
    "This iterative method converges to the optimal action-value function $Q^*(s,a)$ as $i\\to\\infty$. This means that the agent just needs to gradually explore the state-action space and keep updating the estimate of $Q(s,a)$ until it converges to the optimal action-value function $Q^*(s,a)$. However, in cases where the state space is continuous it becomes practically impossible to explore the entire state-action space. Consequently, this also makes it practically impossible to gradually estimate $Q(s,a)$ until it converges to $Q^*(s,a)$.\n",
    "\n",
    "In the Deep $Q$-Learning, we solve this problem by using a neural network to estimate the action-value function $Q(s,a)\\approx Q^*(s,a)$. We call this neural network a $Q$-Network and it can be trained by adjusting its weights at each iteration to minimize the mean-squared error in the Bellman equation.\n",
    "\n",
    "Unfortunately, using neural networks in reinforcement learning to estimate action-value functions has proven to be highly unstable. Luckily, there's a couple of techniques that can be employed to avoid instabilities. These techniques consist of using a ***Target Network*** and ***Experience Replay***. We will explore these two techniques in the following sections."
   ]
  },
  {
   "cell_type": "markdown",
   "metadata": {},
   "source": [
    "<a name=\"6.1\"></a>\n",
    "### 6.1 Target Network\n",
    "\n",
    "We can train the $Q$-Network by adjusting it's weights at each iteration to minimize the mean-squared error in the Bellman equation, where the target values are given by:\n",
    "\n",
    "$$\n",
    "y = R + \\gamma \\max_{a'}Q(s',a';w)\n",
    "$$\n",
    "\n",
    "where $w$ are the weights of the $Q$-Network. This means that we are adjusting the weights $w$ at each iteration to minimize the following error:\n",
    "\n",
    "$$\n",
    "\\overbrace{\\underbrace{R + \\gamma \\max_{a'}Q(s',a'; w)}_{\\rm {y~target}} - Q(s,a;w)}^{\\rm {Error}}\n",
    "$$\n",
    "\n",
    "Notice that this forms a problem because the $y$ target is changing on every iteration. Having a constantly moving target can lead to oscillations and instabilities. To avoid this, we can create\n",
    "a separate neural network for generating the $y$ targets. We call this separate neural network the **target $\\hat Q$-Network** and it will have the same architecture as the original $Q$-Network. By using the target $\\hat Q$-Network, the above error becomes:\n",
    "\n",
    "$$\n",
    "\\overbrace{\\underbrace{R + \\gamma \\max_{a'}\\hat{Q}(s',a'; w^-)}_{\\rm {y~target}} - Q(s,a;w)}^{\\rm {Error}}\n",
    "$$\n",
    "\n",
    "where $w^-$ and $w$ are the weights of the target $\\hat Q$-Network and $Q$-Network, respectively.\n",
    "\n",
    "In practice, we will use the following algorithm: every $C$ time steps we will use the $\\hat Q$-Network to generate the $y$ targets and update the weights of the target $\\hat Q$-Network using the weights of the $Q$-Network. We will update the weights $w^-$ of the the target $\\hat Q$-Network using a **soft update**. This means that we will update the weights $w^-$ using the following rule:\n",
    " \n",
    "$$\n",
    "w^-\\leftarrow \\tau w + (1 - \\tau) w^-\n",
    "$$\n",
    "\n",
    "where $\\tau\\ll 1$. By using the soft update, we are ensuring that the target values, $y$, change slowly, which greatly improves the stability of our learning algorithm."
   ]
  },
  {
   "cell_type": "markdown",
   "metadata": {},
   "source": [
    "<a name=\"ex01\"></a>\n",
    "### Exercise 1\n",
    "\n",
    "In this exercise you will create the $Q$ and target $\\hat Q$ networks and set the optimizer. Remember that the Deep $Q$-Network (DQN) is a neural network that approximates the action-value function $Q(s,a)\\approx Q^*(s,a)$. It does this by learning how to map states to $Q$ values.\n",
    "\n",
    "To solve the Lunar Lander environment, we are going to employ a DQN with the following architecture:\n",
    "\n",
    "* An `Input` layer that takes `state_size` as input.\n",
    "\n",
    "* A `Dense` layer with `64` units and a `relu` activation function.\n",
    "\n",
    "* A `Dense` layer with `64` units and a `relu` activation function.\n",
    "\n",
    "* A `Dense` layer with `num_actions` units and a `linear` activation function. This will be the output layer of our network.\n",
    "\n",
    "\n",
    "In the cell below you should create the $Q$-Network and the target $\\hat Q$-Network using the model architecture described above. Remember that both the $Q$-Network and the target $\\hat Q$-Network have the same architecture.\n",
    "\n",
    "Lastly, you should set `Adam` as the optimizer with a learning rate equal to `ALPHA`. Recall that `ALPHA` was defined in the [Hyperparameters](#2) section. We should note that for this exercise you should use the already imported packages:\n",
    "```python\n",
    "from tensorflow.keras.layers import Dense, Input\n",
    "from tensorflow.keras.optimizers import Adam\n",
    "```"
   ]
  },
  {
   "cell_type": "code",
   "execution_count": 11,
   "metadata": {
    "deletable": false
   },
   "outputs": [],
   "source": [
    "# UNQ_C1\n",
    "# GRADED CELL\n",
    "\n",
    "# Create the Q-Network\n",
    "q_network = Sequential([\n",
    "    ### START CODE HERE ### \n",
    "    \n",
    "    Input(shape=state_size),                       \n",
    "    Dense(units=64, activation='relu'),            \n",
    "    Dense(units=64, activation='relu'),            \n",
    "    Dense(units=num_actions, activation='linear'), \n",
    "    \n",
    "    ### END CODE HERE ### \n",
    "    ])\n",
    "\n",
    "# Create the target Q^-Network\n",
    "target_q_network = Sequential([\n",
    "    ### START CODE HERE ### \n",
    "\n",
    "    Input(shape=state_size),                       \n",
    "    Dense(units=64, activation='relu'),            \n",
    "    Dense(units=64, activation='relu'),            \n",
    "    Dense(units=num_actions, activation='linear'), \n",
    "    \n",
    "    ### END CODE HERE ###\n",
    "    ])\n",
    "\n",
    "### START CODE HERE ### \n",
    "\n",
    "optimizer = Adam(learning_rate=ALPHA)\n",
    "\n",
    "### END CODE HERE ###"
   ]
  },
  {
   "cell_type": "code",
   "execution_count": 12,
   "metadata": {
    "deletable": false,
    "editable": false
   },
   "outputs": [
    {
     "name": "stdout",
     "output_type": "stream",
     "text": [
      "\u001b[92mAll tests passed!\n",
      "\u001b[92mAll tests passed!\n",
      "\u001b[92mAll tests passed!\n"
     ]
    }
   ],
   "source": [
    "# UNIT TEST\n",
    "from public_tests import *\n",
    "\n",
    "test_network(q_network)\n",
    "test_network(target_q_network)\n",
    "test_optimizer(optimizer, ALPHA) "
   ]
  },
  {
   "cell_type": "markdown",
   "metadata": {},
   "source": [
    "<details>\n",
    "  <summary><font size=\"3\" color=\"darkgreen\"><b>Click for hints</b></font></summary>\n",
    "    \n",
    "```python\n",
    "# Create the Q-Network\n",
    "q_network = Sequential([\n",
    "    Input(shape=state_size),                      \n",
    "    Dense(units=64, activation='relu'),            \n",
    "    Dense(units=64, activation='relu'),            \n",
    "    Dense(units=num_actions, activation='linear'),\n",
    "    ])\n",
    "\n",
    "# Create the target Q^-Network\n",
    "target_q_network = Sequential([\n",
    "    Input(shape=state_size),                       \n",
    "    Dense(units=64, activation='relu'),            \n",
    "    Dense(units=64, activation='relu'),            \n",
    "    Dense(units=num_actions, activation='linear'), \n",
    "    ])\n",
    "\n",
    "optimizer = Adam(learning_rate=ALPHA)                                  \n",
    "``` "
   ]
  },
  {
   "cell_type": "markdown",
   "metadata": {},
   "source": [
    "<a name=\"6.2\"></a>\n",
    "### 6.2 Experience Replay\n",
    "\n",
    "When an agent interacts with the environment, the states, actions, and rewards the agent experiences are sequential by nature. If the agent tries to learn from these consecutive experiences it can run into problems due to the strong correlations between them. To avoid this, we employ a technique known as **Experience Replay** to generate uncorrelated experiences for training our agent. Experience replay consists of storing the agent's experiences (i.e the states, actions, and rewards the agent receives) in a memory buffer and then sampling a random mini-batch of experiences from the buffer to do the learning. The experience tuples $(S_t, A_t, R_t, S_{t+1})$ will be added to the memory buffer at each time step as the agent interacts with the environment.\n",
    "\n",
    "For convenience, we will store the experiences as named tuples."
   ]
  },
  {
   "cell_type": "code",
   "execution_count": 13,
   "metadata": {
    "deletable": false,
    "editable": false
   },
   "outputs": [],
   "source": [
    "# Store experiences as named tuples\n",
    "experience = namedtuple(\"Experience\", field_names=[\"state\", \"action\", \"reward\", \"next_state\", \"done\"])"
   ]
  },
  {
   "cell_type": "markdown",
   "metadata": {},
   "source": [
    "By using experience replay we avoid problematic correlations, oscillations and instabilities. In addition, experience replay also allows the agent to potentially use the same experience in multiple weight updates, which increases data efficiency."
   ]
  },
  {
   "cell_type": "markdown",
   "metadata": {},
   "source": [
    "<a name=\"7\"></a>\n",
    "## 7 - Deep Q-Learning Algorithm with Experience Replay\n",
    "\n",
    "Now that we know all the techniques that we are going to use, we can put them together to arrive at the Deep Q-Learning Algorithm With Experience Replay.\n",
    "<br>\n",
    "<br>\n",
    "<figure>\n",
    "  <img src = \"images/deep_q_algorithm.png\" width = 90% style = \"border: thin silver solid; padding: 0px\">\n",
    "      <figcaption style = \"text-align: center; font-style: italic\">Fig 3. Deep Q-Learning with Experience Replay.</figcaption>\n",
    "</figure>"
   ]
  },
  {
   "cell_type": "markdown",
   "metadata": {},
   "source": [
    "<a name=\"ex02\"></a>\n",
    "### Exercise 2\n",
    "\n",
    "In this exercise you will implement line ***12*** of the algorithm outlined in *Fig 3* above and you will also compute the loss between the $y$ targets and the $Q(s,a)$ values. In the cell below, complete the `compute_loss` function by setting the $y$ targets equal to:\n",
    "\n",
    "$$\n",
    "\\begin{equation}\n",
    "    y_j =\n",
    "    \\begin{cases}\n",
    "      R_j & \\text{if episode terminates at step  } j+1\\\\\n",
    "      R_j + \\gamma \\max_{a'}\\hat{Q}(s_{j+1},a') & \\text{otherwise}\\\\\n",
    "    \\end{cases}       \n",
    "\\end{equation}\n",
    "$$\n",
    "\n",
    "Here are a couple of things to note:\n",
    "\n",
    "* The `compute_loss` function takes in a mini-batch of experience tuples. This mini-batch of experience tuples is unpacked to extract the `states`, `actions`, `rewards`, `next_states`, and `done_vals`. You should keep in mind that these variables are *TensorFlow Tensors* whose size will depend on the mini-batch size. For example, if the mini-batch size is `64` then both `rewards` and `done_vals` will be TensorFlow Tensors with `64` elements.\n",
    "\n",
    "\n",
    "* Using `if/else` statements to set the $y$ targets will not work when the variables are tensors with many elements. However, notice that you can use the `done_vals` to implement the above in a single line of code. To do this, recall that the `done` variable is a Boolean variable that takes the value `True` when an episode terminates at step $j+1$ and it is `False` otherwise. Taking into account that a Boolean value of `True` has the numerical value of `1` and a Boolean value of `False` has the numerical value of `0`, you can use the factor `(1 - done_vals)` to implement the above in a single line of code. Here's a hint: notice that `(1 - done_vals)` has a value of `0` when `done_vals` is `True` and a value of `1` when `done_vals` is `False`. \n",
    "\n",
    "Lastly, compute the loss by calculating the Mean-Squared Error (`MSE`) between the `y_targets` and the `q_values`. To calculate the mean-squared error you should use the already imported package `MSE`:\n",
    "```python\n",
    "from tensorflow.keras.losses import MSE\n",
    "```"
   ]
  },
  {
   "cell_type": "code",
   "execution_count": 14,
   "metadata": {
    "deletable": false
   },
   "outputs": [],
   "source": [
    "# UNQ_C2\n",
    "# GRADED FUNCTION: calculate_loss\n",
    "\n",
    "def compute_loss(experiences, gamma, q_network, target_q_network):\n",
    "    \"\"\" \n",
    "    Calculates the loss.\n",
    "    \n",
    "    Args:\n",
    "      experiences: (tuple) tuple of [\"state\", \"action\", \"reward\", \"next_state\", \"done\"] namedtuples\n",
    "      gamma: (float) The discount factor.\n",
    "      q_network: (tf.keras.Sequential) Keras model for predicting the q_values\n",
    "      target_q_network: (tf.keras.Sequential) Keras model for predicting the targets\n",
    "          \n",
    "    Returns:\n",
    "      loss: (TensorFlow Tensor(shape=(0,), dtype=int32)) the Mean-Squared Error between\n",
    "            the y targets and the Q(s,a) values.\n",
    "    \"\"\"\n",
    "\n",
    "    # Unpack the mini-batch of experience tuples\n",
    "    states, actions, rewards, next_states, done_vals = experiences\n",
    "    \n",
    "    # Compute max Q^(s,a)\n",
    "    max_qsa = tf.reduce_max(target_q_network(next_states), axis=-1)\n",
    "    \n",
    "    # Set y = R if episode terminates, otherwise set y = R + γ max Q^(s,a).\n",
    "    ### START CODE HERE ### \n",
    "    \n",
    "    y_targets = rewards + (1 - done_vals) * gamma * max_qsa\n",
    "    \n",
    "    ### END CODE HERE ###\n",
    "    \n",
    "    # Get the q_values and reshape to match y_targets\n",
    "    q_values = q_network(states)\n",
    "    q_values = tf.gather_nd(q_values, tf.stack([tf.range(q_values.shape[0]),\n",
    "                                                tf.cast(actions, tf.int32)], axis=1))\n",
    "        \n",
    "    # Compute the loss\n",
    "    ### START CODE HERE ### \n",
    "     \n",
    "    loss = MSE(y_targets, q_values)\n",
    "    \n",
    "    ### END CODE HERE ### \n",
    "    \n",
    "    return loss"
   ]
  },
  {
   "cell_type": "code",
   "execution_count": 15,
   "metadata": {
    "deletable": false,
    "editable": false
   },
   "outputs": [
    {
     "name": "stdout",
     "output_type": "stream",
     "text": [
      "\u001b[92mAll tests passed!\n"
     ]
    }
   ],
   "source": [
    "# UNIT TEST    \n",
    "test_compute_loss(compute_loss)"
   ]
  },
  {
   "cell_type": "markdown",
   "metadata": {},
   "source": [
    "<details>\n",
    "  <summary><font size=\"3\" color=\"darkgreen\"><b>Click for hints</b></font></summary>\n",
    "    \n",
    "```python\n",
    "def compute_loss(experiences, gamma, q_network, target_q_network):\n",
    "    \"\"\" \n",
    "    Calculates the loss.\n",
    "    \n",
    "    Args:\n",
    "      experiences: (tuple) tuple of [\"state\", \"action\", \"reward\", \"next_state\", \"done\"] namedtuples\n",
    "      gamma: (float) The discount factor.\n",
    "      q_network: (tf.keras.Sequential) Keras model for predicting the q_values\n",
    "      target_q_network: (tf.keras.Sequential) Keras model for predicting the targets\n",
    "          \n",
    "    Returns:\n",
    "      loss: (TensorFlow Tensor(shape=(0,), dtype=int32)) the Mean-Squared Error between\n",
    "            the y targets and the Q(s,a) values.\n",
    "    \"\"\"\n",
    "\n",
    "    \n",
    "    # Unpack the mini-batch of experience tuples\n",
    "    states, actions, rewards, next_states, done_vals = experiences\n",
    "    \n",
    "    # Compute max Q^(s,a)\n",
    "    max_qsa = tf.reduce_max(target_q_network(next_states), axis=-1)\n",
    "    \n",
    "    # Set y = R if episode terminates, otherwise set y = R + γ max Q^(s,a).\n",
    "    y_targets = rewards + (gamma * max_qsa * (1 - done_vals))\n",
    "    \n",
    "    # Get the q_values\n",
    "    q_values = q_network(states)\n",
    "    q_values = tf.gather_nd(q_values, tf.stack([tf.range(q_values.shape[0]),\n",
    "                                                tf.cast(actions, tf.int32)], axis=1))\n",
    "    \n",
    "    # Calculate the loss\n",
    "    loss = MSE(y_targets, q_values)\n",
    "    \n",
    "    return loss\n",
    "\n",
    "``` \n",
    "    "
   ]
  },
  {
   "cell_type": "markdown",
   "metadata": {},
   "source": [
    "<a name=\"8\"></a>\n",
    "## 8 - Update the Network Weights\n",
    "\n",
    "We will use the `agent_learn` function below to implement lines ***12 -14*** of the algorithm outlined in [Fig 3](#7). The `agent_learn` function will update the weights of the $Q$ and target $\\hat Q$ networks using a custom training loop. Because we are using a custom training loop we need to retrieve the gradients via a `tf.GradientTape` instance, and then call `optimizer.apply_gradients()` to update the weights of our $Q$-Network. Note that we are also using the `@tf.function` decorator to increase performance. Without this decorator our training will take twice as long. If you would like to know more about how to increase performance with `@tf.function` take a look at the [TensorFlow documentation](https://www.tensorflow.org/guide/function).\n",
    "\n",
    "The last line of this function updates the weights of the target $\\hat Q$-Network using a [soft update](#6.1). If you want to know how this is implemented in code we encourage you to take a look at the `utils.update_target_network` function in the `utils` module."
   ]
  },
  {
   "cell_type": "code",
   "execution_count": 16,
   "metadata": {
    "deletable": false,
    "editable": false
   },
   "outputs": [],
   "source": [
    "@tf.function\n",
    "def agent_learn(experiences, gamma):\n",
    "    \"\"\"\n",
    "    Updates the weights of the Q networks.\n",
    "    \n",
    "    Args:\n",
    "      experiences: (tuple) tuple of [\"state\", \"action\", \"reward\", \"next_state\", \"done\"] namedtuples\n",
    "      gamma: (float) The discount factor.\n",
    "    \n",
    "    \"\"\"\n",
    "    \n",
    "    # Calculate the loss\n",
    "    with tf.GradientTape() as tape:\n",
    "        loss = compute_loss(experiences, gamma, q_network, target_q_network)\n",
    "\n",
    "    # Get the gradients of the loss with respect to the weights.\n",
    "    gradients = tape.gradient(loss, q_network.trainable_variables)\n",
    "    \n",
    "    # Update the weights of the q_network.\n",
    "    optimizer.apply_gradients(zip(gradients, q_network.trainable_variables))\n",
    "\n",
    "    # update the weights of target q_network\n",
    "    utils.update_target_network(q_network, target_q_network)"
   ]
  },
  {
   "cell_type": "markdown",
   "metadata": {},
   "source": [
    "<a name=\"9\"></a>\n",
    "## 9 - Train the Agent\n",
    "\n",
    "We are now ready to train our agent to solve the Lunar Lander environment. In the cell below we will implement the algorithm in [Fig 3](#7) line by line (please note that we have included the same algorithm below for easy reference. This will prevent you from scrolling up and down the notebook):\n",
    "\n",
    "* **Line 1**: We initialize the `memory_buffer` with a capacity of $N =$ `MEMORY_SIZE`. Notice that we are using a `deque` as the data structure for our `memory_buffer`.\n",
    "\n",
    "\n",
    "* **Line 2**: We skip this line since we already initialized the `q_network` in [Exercise 1](#ex01).\n",
    "\n",
    "\n",
    "* **Line 3**: We initialize the `target_q_network` by setting its weights to be equal to those of the `q_network`.\n",
    "\n",
    "\n",
    "* **Line 4**: We start the outer loop. Notice that we have set $M =$ `num_episodes = 2000`. This number is reasonable because the agent should be able to solve the Lunar Lander environment in less than `2000` episodes using this notebook's default parameters.\n",
    "\n",
    "\n",
    "* **Line 5**: We use the `.reset()` method to reset the environment to the initial state and get the initial state.\n",
    "\n",
    "\n",
    "* **Line 6**: We start the inner loop. Notice that we have set $T =$ `max_num_timesteps = 1000`. This means that the episode will automatically terminate if the episode hasn't terminated after `1000` time steps.\n",
    "\n",
    "\n",
    "* **Line 7**: The agent observes the current `state` and chooses an `action` using an $\\epsilon$-greedy policy. Our agent starts out using a value of $\\epsilon =$ `epsilon = 1` which yields an $\\epsilon$-greedy policy that is equivalent to the equiprobable random policy. This means that at the beginning of our training, the agent is just going to take random actions regardless of the observed `state`. As training progresses we will decrease the value of $\\epsilon$ slowly towards a minimum value using a given $\\epsilon$-decay rate. We want this minimum value to be close to zero because a value of $\\epsilon = 0$ will yield an $\\epsilon$-greedy policy that is equivalent to the greedy policy. This means that towards the end of training, the agent will lean towards selecting the `action` that it believes (based on its past experiences) will maximize $Q(s,a)$. We will set the minimum $\\epsilon$ value to be `0.01` and not exactly 0 because we always want to keep a little bit of exploration during training. If you want to know how this is implemented in code we encourage you to take a look at the `utils.get_action` function in the `utils` module.\n",
    "\n",
    "\n",
    "* **Line 8**: We use the `.step()` method to take the given `action` in the environment and get the `reward` and the `next_state`. \n",
    "\n",
    "\n",
    "* **Line 9**: We store the `experience(state, action, reward, next_state, done)` tuple in our `memory_buffer`. Notice that we also store the `done` variable so that we can keep track of when an episode terminates. This allowed us to set the $y$ targets in [Exercise 2](#ex02).\n",
    "\n",
    "\n",
    "* **Line 10**: We check if the conditions are met to perform a learning update. We do this by using our custom `utils.check_update_conditions` function. This function checks if $C =$ `NUM_STEPS_FOR_UPDATE = 4` time steps have occured and if our `memory_buffer` has enough experience tuples to fill a mini-batch. For example, if the mini-batch size is `64`, then our `memory_buffer` should have more than `64` experience tuples in order to pass the latter condition. If the conditions are met, then the `utils.check_update_conditions` function will return a value of `True`, otherwise it will return a value of `False`.\n",
    "\n",
    "\n",
    "* **Lines 11 - 14**: If the `update` variable is `True` then we perform a learning update. The learning update consists of sampling a random mini-batch of experience tuples from our `memory_buffer`, setting the $y$ targets, performing gradient descent, and updating the weights of the networks. We will use the `agent_learn` function we defined in [Section 8](#8) to perform the latter 3.\n",
    "\n",
    "\n",
    "* **Line 15**: At the end of each iteration of the inner loop we set `next_state` as our new `state` so that the loop can start again from this new state. In addition, we check if the episode has reached a terminal state (i.e we check if `done = True`). If a terminal state has been reached, then we break out of the inner loop.\n",
    "\n",
    "\n",
    "* **Line 16**: At the end of each iteration of the outer loop we update the value of $\\epsilon$, and check if the environment has been solved. We consider that the environment has been solved if the agent receives an average of `200` points in the last `100` episodes. If the environment has not been solved we continue the outer loop and start a new episode.\n",
    "\n",
    "Finally, we wanted to note that we have included some extra variables to keep track of the total number of points the agent received in each episode. This will help us determine if the agent has solved the environment and it will also allow us to see how our agent performed during training. We also use the `time` module to measure how long the training takes. \n",
    "\n",
    "<br>\n",
    "<br>\n",
    "<figure>\n",
    "  <img src = \"images/deep_q_algorithm.png\" width = 90% style = \"border: thin silver solid; padding: 0px\">\n",
    "      <figcaption style = \"text-align: center; font-style: italic\">Fig 4. Deep Q-Learning with Experience Replay.</figcaption>\n",
    "</figure>\n",
    "<br>\n",
    "\n",
    "**Note:** With this notebook's default parameters, the following cell takes between 10 to 15 minutes to run. "
   ]
  },
  {
   "cell_type": "code",
   "execution_count": 17,
   "metadata": {
    "deletable": false,
    "editable": false
   },
   "outputs": [
    {
     "name": "stdout",
     "output_type": "stream",
     "text": [
      "Episode 100 | Total point average of the last 100 episodes: -132.04\n",
      "Episode 200 | Total point average of the last 100 episodes: -89.677\n",
      "Episode 300 | Total point average of the last 100 episodes: -45.00\n",
      "Episode 400 | Total point average of the last 100 episodes: 124.20\n",
      "Episode 455 | Total point average of the last 100 episodes: 200.05\n",
      "\n",
      "Environment solved in 455 episodes!\n",
      "\n",
      "Total Runtime: 555.21 s (9.25 min)\n"
     ]
    }
   ],
   "source": [
    "start = time.time()\n",
    "\n",
    "num_episodes = 2000\n",
    "max_num_timesteps = 1000\n",
    "\n",
    "total_point_history = []\n",
    "\n",
    "num_p_av = 100    # number of total points to use for averaging\n",
    "epsilon = 1.0     # initial ε value for ε-greedy policy\n",
    "\n",
    "# Create a memory buffer D with capacity N\n",
    "memory_buffer = deque(maxlen=MEMORY_SIZE)\n",
    "\n",
    "# Set the target network weights equal to the Q-Network weights\n",
    "target_q_network.set_weights(q_network.get_weights())\n",
    "\n",
    "for i in range(num_episodes):\n",
    "    \n",
    "    # Reset the environment to the initial state and get the initial state\n",
    "    state = env.reset()\n",
    "    total_points = 0\n",
    "    \n",
    "    for t in range(max_num_timesteps):\n",
    "        \n",
    "        # From the current state S choose an action A using an ε-greedy policy\n",
    "        state_qn = np.expand_dims(state, axis=0)  # state needs to be the right shape for the q_network\n",
    "        q_values = q_network(state_qn)\n",
    "        action = utils.get_action(q_values, epsilon)\n",
    "        \n",
    "        # Take action A and receive reward R and the next state S'\n",
    "        next_state, reward, done, _ = env.step(action)\n",
    "        \n",
    "        # Store experience tuple (S,A,R,S') in the memory buffer.\n",
    "        # We store the done variable as well for convenience.\n",
    "        memory_buffer.append(experience(state, action, reward, next_state, done))\n",
    "        \n",
    "        # Only update the network every NUM_STEPS_FOR_UPDATE time steps.\n",
    "        update = utils.check_update_conditions(t, NUM_STEPS_FOR_UPDATE, memory_buffer)\n",
    "        \n",
    "        if update:\n",
    "            # Sample random mini-batch of experience tuples (S,A,R,S') from D\n",
    "            experiences = utils.get_experiences(memory_buffer)\n",
    "            \n",
    "            # Set the y targets, perform a gradient descent step,\n",
    "            # and update the network weights.\n",
    "            agent_learn(experiences, GAMMA)\n",
    "        \n",
    "        state = next_state.copy()\n",
    "        total_points += reward\n",
    "        \n",
    "        if done:\n",
    "            break\n",
    "            \n",
    "    total_point_history.append(total_points)\n",
    "    av_latest_points = np.mean(total_point_history[-num_p_av:])\n",
    "    \n",
    "    # Update the ε value\n",
    "    epsilon = utils.get_new_eps(epsilon)\n",
    "\n",
    "    print(f\"\\rEpisode {i+1} | Total point average of the last {num_p_av} episodes: {av_latest_points:.2f}\", end=\"\")\n",
    "\n",
    "    if (i+1) % num_p_av == 0:\n",
    "        print(f\"\\rEpisode {i+1} | Total point average of the last {num_p_av} episodes: {av_latest_points:.2f}\")\n",
    "\n",
    "    # We will consider that the environment is solved if we get an\n",
    "    # average of 200 points in the last 100 episodes.\n",
    "    if av_latest_points >= 200.0:\n",
    "        print(f\"\\n\\nEnvironment solved in {i+1} episodes!\")\n",
    "        q_network.save('lunar_lander_model.h5')\n",
    "        break\n",
    "        \n",
    "tot_time = time.time() - start\n",
    "\n",
    "print(f\"\\nTotal Runtime: {tot_time:.2f} s ({(tot_time/60):.2f} min)\")"
   ]
  },
  {
   "cell_type": "markdown",
   "metadata": {},
   "source": [
    "We can plot the total point history along with the moving average to see how our agent improved during training. If you want to know about the different plotting options available in the `utils.plot_history` function we encourage you to take a look at the `utils` module."
   ]
  },
  {
   "cell_type": "code",
   "execution_count": 18,
   "metadata": {
    "deletable": false,
    "editable": false,
    "id": "E_EUXxurfe8m",
    "scrolled": false
   },
   "outputs": [
    {
     "data": {
      "image/png": "[encoded data removed]",
      "text/plain": [
       "<Figure size 720x504 with 1 Axes>"
      ]
     },
     "metadata": {},
     "output_type": "display_data"
    }
   ],
   "source": [
    "# Plot the total point history along with the moving average\n",
    "utils.plot_history(total_point_history)"
   ]
  },
  {
   "cell_type": "markdown",
   "metadata": {
    "id": "c_xwgaX5MnYt"
   },
   "source": [
    "<a name=\"10\"></a>\n",
    "## 10 - See the Trained Agent In Action\n",
    "\n",
    "Now that we have trained our agent, we can see it in action. We will use the `utils.create_video` function to create a video of our agent interacting with the environment using the trained $Q$-Network. The `utils.create_video` function uses the `imageio` library to create the video. This library produces some warnings that can be distracting, so, to suppress these warnings we run the code below."
   ]
  },
  {
   "cell_type": "code",
   "execution_count": 19,
   "metadata": {
    "deletable": false,
    "editable": false
   },
   "outputs": [],
   "source": [
    "# Suppress warnings from imageio\n",
    "import logging\n",
    "logging.getLogger().setLevel(logging.ERROR)"
   ]
  },
  {
   "cell_type": "markdown",
   "metadata": {},
   "source": [
    "In the cell below we create a video of our agent interacting with the Lunar Lander environment using the trained `q_network`. The video is saved to the `videos` folder with the given `filename`. We use the `utils.embed_mp4` function to embed the video in the Jupyter Notebook so that we can see it here directly without having to download it.\n",
    "\n",
    "We should note that since the lunar lander starts with a random initial force applied to its center of mass, every time you run the cell below you will see a different video. If the agent was trained properly, it should be able to land the lunar lander in the landing pad every time, regardless of the initial force applied to its center of mass."
   ]
  },
  {
   "cell_type": "code",
   "execution_count": 40,
   "metadata": {
    "deletable": false,
    "editable": false,
    "id": "3Ttb_zLeJKiG",
    "scrolled": true
   },
   "outputs": [
    {
     "data": {
      "text/html": [
       "\n",
       "    <video width=\"840\" height=\"480\" controls>\n",
       "    <source src=\"data:video/mp4;base64,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\" type=\"video/mp4\">\n",
       "    Your browser does not support the video tag.\n",
       "    </video>"
      ],
      "text/plain": [
       "<IPython.core.display.HTML object>"
      ]
     },
     "execution_count": 40,
     "metadata": {},
     "output_type": "execute_result"
    }
   ],
   "source": [
    "filename = \"./videos/lunar_lander.mp4\"\n",
    "\n",
    "utils.create_video(filename, env, q_network)\n",
    "utils.embed_mp4(filename)"
   ]
  },
  {
   "cell_type": "markdown",
   "metadata": {},
   "source": [
    "<a name=\"11\"></a>\n",
    "## 11 - Congratulations!\n",
    "\n",
    "You have successfully used Deep Q-Learning with Experience Replay to train an agent to land a lunar lander safely on a landing pad on the surface of the moon. Congratulations!"
   ]
  },
  {
   "cell_type": "markdown",
   "metadata": {},
   "source": [
    "<a name=\"12\"></a>\n",
    "## 12 - References\n",
    "\n",
    "If you would like to learn more about Deep Q-Learning, we recommend you check out the following papers.\n",
    "\n",
    "\n",
    "* Mnih, V., Kavukcuoglu, K., Silver, D. et al. Human-level control through deep reinforcement learning. Nature 518, 529–533 (2015).\n",
    "\n",
    "\n",
    "* Lillicrap, T. P., Hunt, J. J., Pritzel, A., et al. Continuous Control with Deep Reinforcement Learning. ICLR (2016).\n",
    "\n",
    "\n",
    "* Mnih, V., Kavukcuoglu, K., Silver, D. et al. Playing Atari with Deep Reinforcement Learning. arXiv e-prints.  arXiv:1312.5602 (2013)."
   ]
  },
  {
   "cell_type": "markdown",
   "metadata": {},
   "source": [
    "<details>\n",
    "  <summary><font size=\"2\" color=\"darkgreen\"><b>Please click here if you want to experiment with any of the non-graded code.</b></font></summary>\n",
    "    <p><i><b>Important Note: Please only do this when you've already passed the assignment to avoid problems with the autograder.</b></i>\n",
    "    <ol>\n",
    "        <li> On the notebook’s menu, click “View” > “Cell Toolbar” > “Edit Metadata”</li>\n",
    "        <li> Hit the “Edit Metadata” button next to the code cell which you want to lock/unlock</li>\n",
    "        <li> Set the attribute value for “editable” to:\n",
    "            <ul>\n",
    "                <li> “true” if you want to unlock it </li>\n",
    "                <li> “false” if you want to lock it </li>\n",
    "            </ul>\n",
    "        </li>\n",
    "        <li> On the notebook’s menu, click “View” > “Cell Toolbar” > “None” </li>\n",
    "    </ol>\n",
    "    <p> Here's a short demo of how to do the steps above: \n",
    "        <br>\n",
    "        <img src=\"https://drive.google.com/uc?export=view&id=14Xy_Mb17CZVgzVAgq7NCjMVBvSae3xO1\" align=\"center\" alt=\"unlock_cells.gif\">\n",
    "</details>"
   ]
  }
 ],
 "metadata": {
  "accelerator": "GPU",
  "colab": {
   "collapsed_sections": [],
   "name": "TensorFlow - Lunar Lander.ipynb",
   "provenance": []
  },
  "kernelspec": {
   "display_name": "Python 3",
   "language": "python",
   "name": "python3"
  },
  "language_info": {
   "codemirror_mode": {
    "name": "ipython",
    "version": 3
   },
   "file_extension": ".py",
   "mimetype": "text/x-python",
   "name": "python",
   "nbconvert_exporter": "python",
   "pygments_lexer": "ipython3",
   "version": "3.7.6"
  }
 },
 "nbformat": 4,
 "nbformat_minor": 1
}
